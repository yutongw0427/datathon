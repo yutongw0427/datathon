{
 "cells": [
  {
   "cell_type": "markdown",
   "metadata": {},
   "source": []
  },
  {
   "cell_type": "code",
   "execution_count": 1,
   "metadata": {},
   "outputs": [],
   "source": [
    "# Import Packages \n",
    "import pandas as pd\n",
    "import numpy as np\n",
    "pd.set_option('display.max_columns', None)\n",
    "\n",
    "# Import for plots\n",
    "import matplotlib\n",
    "import matplotlib.pyplot as plt\n",
    "%matplotlib inline\n",
    "import seaborn as sb\n",
    "\n",
    "# Import for complex plots (like ggplot2)\n",
    "from plotnine import *\n"
   ]
  },
  {
   "cell_type": "code",
   "execution_count": 2,
   "metadata": {},
   "outputs": [
    {
     "name": "stderr",
     "output_type": "stream",
     "text": [
      "/Users/Meana/anaconda3/lib/python3.7/site-packages/IPython/core/interactiveshell.py:3057: DtypeWarning:\n",
      "\n",
      "Columns (1,5,7,8) have mixed types. Specify dtype option on import or set low_memory=False.\n",
      "\n"
     ]
    }
   ],
   "source": [
    "part1 = pd.read_csv('Part 1.csv')"
   ]
  },
  {
   "cell_type": "code",
   "execution_count": 24,
   "metadata": {},
   "outputs": [],
   "source": [
    "# Read Data\n",
    "part1 = pd.read_csv('Part 1.csv', skiprows=1)\n",
    "part2 = pd.read_csv('Part 2.csv', skiprows=1)\n",
    "part3 = pd.read_csv('Part 3.csv', skiprows=1)\n",
    "part4a = pd.read_csv('Part 4a.csv', skiprows=1)\n",
    "part4b = pd.read_csv('Part 4b.csv', skiprows=1)\n",
    "part5 = pd.read_csv('Part 5.csv', skiprows=1)"
   ]
  },
  {
   "cell_type": "code",
   "execution_count": 25,
   "metadata": {},
   "outputs": [],
   "source": [
    "# Combine the data\n",
    "data = pd.concat([part1, part2, part3, part4a, part5, part5])"
   ]
  },
  {
   "cell_type": "code",
   "execution_count": 26,
   "metadata": {},
   "outputs": [
    {
     "data": {
      "text/plain": [
       "(5395542, 9)"
      ]
     },
     "execution_count": 26,
     "metadata": {},
     "output_type": "execute_result"
    }
   ],
   "source": [
    "data.shape"
   ]
  },
  {
   "cell_type": "code",
   "execution_count": 27,
   "metadata": {},
   "outputs": [
    {
     "data": {
      "text/html": [
       "<div>\n",
       "<style scoped>\n",
       "    .dataframe tbody tr th:only-of-type {\n",
       "        vertical-align: middle;\n",
       "    }\n",
       "\n",
       "    .dataframe tbody tr th {\n",
       "        vertical-align: top;\n",
       "    }\n",
       "\n",
       "    .dataframe thead th {\n",
       "        text-align: right;\n",
       "    }\n",
       "</style>\n",
       "<table border=\"1\" class=\"dataframe\">\n",
       "  <thead>\n",
       "    <tr style=\"text-align: right;\">\n",
       "      <th></th>\n",
       "      <th>Geographic identifier code</th>\n",
       "      <th>Id2</th>\n",
       "      <th>Geographic area name</th>\n",
       "      <th>2012 NAICS code</th>\n",
       "      <th>Meaning of 2012 NAICS code</th>\n",
       "      <th>Sales, receipts, or revenue size of establishments operated the entire year code</th>\n",
       "      <th>Meaning of Sales, receipts, or revenue size of establishments operated the entire year code</th>\n",
       "      <th>Year</th>\n",
       "      <th>Number of establishments</th>\n",
       "    </tr>\n",
       "  </thead>\n",
       "  <tbody>\n",
       "    <tr>\n",
       "      <td>0</td>\n",
       "      <td>8610000US06001</td>\n",
       "      <td>6001</td>\n",
       "      <td>ZIP 06001 (Avon, CT)</td>\n",
       "      <td>44-45</td>\n",
       "      <td>Retail trade</td>\n",
       "      <td>1</td>\n",
       "      <td>All establishments</td>\n",
       "      <td>2012</td>\n",
       "      <td>81</td>\n",
       "    </tr>\n",
       "    <tr>\n",
       "      <td>1</td>\n",
       "      <td>8610000US06001</td>\n",
       "      <td>6001</td>\n",
       "      <td>ZIP 06001 (Avon, CT)</td>\n",
       "      <td>44-45</td>\n",
       "      <td>Retail trade</td>\n",
       "      <td>2</td>\n",
       "      <td>Establishments operated for the entire year</td>\n",
       "      <td>2012</td>\n",
       "      <td>68</td>\n",
       "    </tr>\n",
       "    <tr>\n",
       "      <td>2</td>\n",
       "      <td>8610000US06001</td>\n",
       "      <td>6001</td>\n",
       "      <td>ZIP 06001 (Avon, CT)</td>\n",
       "      <td>44-45</td>\n",
       "      <td>Retail trade</td>\n",
       "      <td>123</td>\n",
       "      <td>Establishments operated entire year with sales...</td>\n",
       "      <td>2012</td>\n",
       "      <td>4</td>\n",
       "    </tr>\n",
       "    <tr>\n",
       "      <td>3</td>\n",
       "      <td>8610000US06001</td>\n",
       "      <td>6001</td>\n",
       "      <td>ZIP 06001 (Avon, CT)</td>\n",
       "      <td>44-45</td>\n",
       "      <td>Retail trade</td>\n",
       "      <td>125</td>\n",
       "      <td>Establishments operated entire year with sales...</td>\n",
       "      <td>2012</td>\n",
       "      <td>8</td>\n",
       "    </tr>\n",
       "    <tr>\n",
       "      <td>4</td>\n",
       "      <td>8610000US06001</td>\n",
       "      <td>6001</td>\n",
       "      <td>ZIP 06001 (Avon, CT)</td>\n",
       "      <td>44-45</td>\n",
       "      <td>Retail trade</td>\n",
       "      <td>131</td>\n",
       "      <td>Establishments operated entire year with sales...</td>\n",
       "      <td>2012</td>\n",
       "      <td>20</td>\n",
       "    </tr>\n",
       "  </tbody>\n",
       "</table>\n",
       "</div>"
      ],
      "text/plain": [
       "  Geographic identifier code   Id2  Geographic area name 2012 NAICS code  \\\n",
       "0             8610000US06001  6001  ZIP 06001 (Avon, CT)           44-45   \n",
       "1             8610000US06001  6001  ZIP 06001 (Avon, CT)           44-45   \n",
       "2             8610000US06001  6001  ZIP 06001 (Avon, CT)           44-45   \n",
       "3             8610000US06001  6001  ZIP 06001 (Avon, CT)           44-45   \n",
       "4             8610000US06001  6001  ZIP 06001 (Avon, CT)           44-45   \n",
       "\n",
       "  Meaning of 2012 NAICS code  \\\n",
       "0               Retail trade   \n",
       "1               Retail trade   \n",
       "2               Retail trade   \n",
       "3               Retail trade   \n",
       "4               Retail trade   \n",
       "\n",
       "   Sales, receipts, or revenue size of establishments operated the entire year code  \\\n",
       "0                                                  1                                  \n",
       "1                                                  2                                  \n",
       "2                                                123                                  \n",
       "3                                                125                                  \n",
       "4                                                131                                  \n",
       "\n",
       "  Meaning of Sales, receipts, or revenue size of establishments operated the entire year code  \\\n",
       "0                                 All establishments                                            \n",
       "1        Establishments operated for the entire year                                            \n",
       "2  Establishments operated entire year with sales...                                            \n",
       "3  Establishments operated entire year with sales...                                            \n",
       "4  Establishments operated entire year with sales...                                            \n",
       "\n",
       "   Year  Number of establishments  \n",
       "0  2012                        81  \n",
       "1  2012                        68  \n",
       "2  2012                         4  \n",
       "3  2012                         8  \n",
       "4  2012                        20  "
      ]
     },
     "execution_count": 27,
     "metadata": {},
     "output_type": "execute_result"
    }
   ],
   "source": [
    "data.head()"
   ]
  },
  {
   "cell_type": "code",
   "execution_count": 17,
   "metadata": {},
   "outputs": [
    {
     "data": {
      "text/plain": [
       "array(['Year', '2012', 2012], dtype=object)"
      ]
     },
     "execution_count": 17,
     "metadata": {},
     "output_type": "execute_result"
    }
   ],
   "source": [
    "data['YEAR.id'].unique()"
   ]
  },
  {
   "cell_type": "code",
   "execution_count": null,
   "metadata": {},
   "outputs": [],
   "source": []
  }
 ],
 "metadata": {
  "kernelspec": {
   "display_name": "Python 3",
   "language": "python",
   "name": "python3"
  },
  "language_info": {
   "codemirror_mode": {
    "name": "ipython",
    "version": 3
   },
   "file_extension": ".py",
   "mimetype": "text/x-python",
   "name": "python",
   "nbconvert_exporter": "python",
   "pygments_lexer": "ipython3",
   "version": "3.7.3"
  }
 },
 "nbformat": 4,
 "nbformat_minor": 2
}
